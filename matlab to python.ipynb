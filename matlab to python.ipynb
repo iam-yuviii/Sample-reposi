{
 "cells": [
  {
   "cell_type": "code",
   "execution_count": 3,
   "id": "9c184bc1-6bd7-42d0-90ca-3a161d3b4034",
   "metadata": {},
   "outputs": [
    {
     "name": "stderr",
     "output_type": "stream",
     "text": [
      "Downloading: 100%|███████████████████████████████████████████████████████████████| 1460/1460 [56:50<00:00,  2.34s/file]"
     ]
    },
    {
     "name": "stdout",
     "output_type": "stream",
     "text": [
      "\n",
      "✅ Download complete: 1460/1460 files saved to C:\\Users\\study\\OneDrive\\Desktop\\Radiosonde_Data\n"
     ]
    },
    {
     "name": "stderr",
     "output_type": "stream",
     "text": [
      "\n"
     ]
    }
   ],
   "source": [
    "import os\n",
    "import time\n",
    "import requests\n",
    "from tqdm import tqdm\n",
    "\n",
    "# ===============================\n",
    "# CONFIGURATION\n",
    "# ===============================\n",
    "desktop_path = r\"C:\\Users\\study\\OneDrive\\Desktop\"\n",
    "save_dir = os.path.join(desktop_path, \"Radiosonde_Data\")  # Save in subfolder\n",
    "station_id = \"43279\"\n",
    "years = [2022, 2023]\n",
    "months = [f\"{m:02d}\" for m in range(1, 13)]\n",
    "days_in_month = [31, 28, 31, 30, 31, 30, 31, 31, 30, 31, 30, 31]\n",
    "times = [\"00\", \"12\"]\n",
    "\n",
    "# Make sure folder exists\n",
    "os.makedirs(save_dir, exist_ok=True)\n",
    "\n",
    "# ===============================\n",
    "# GENERATE TASKS\n",
    "# ===============================\n",
    "tasks = []\n",
    "for year in years:\n",
    "    for month_idx, month in enumerate(months):\n",
    "        for day in range(1, days_in_month[month_idx] + 1):\n",
    "            day_str = f\"{day:02d}\"\n",
    "            for t in times:\n",
    "                url = (\n",
    "                    f\"https://weather.uwyo.edu/cgi-bin/sounding?region=seasia&TYPE=TEXT%3ALIST\"\n",
    "                    f\"&YEAR={year}&MONTH={month}&FROM={day_str}{t}&TO={day_str}{t}&STNM={station_id}\"\n",
    "                )\n",
    "                filename = f\"{station_id}_{year}_{month}_{day_str}_{t}Z.txt\"\n",
    "                filepath = os.path.join(save_dir, filename)\n",
    "                tasks.append((url, filepath))\n",
    "\n",
    "# ===============================\n",
    "# DOWNLOAD FUNCTION WITH RETRY\n",
    "# ===============================\n",
    "def download_file(url, filepath, retries=3, delay=2):\n",
    "    for attempt in range(retries):\n",
    "        try:\n",
    "            response = requests.get(url, timeout=15)\n",
    "            response.raise_for_status()\n",
    "            with open(filepath, \"wb\") as f:\n",
    "                f.write(response.content)\n",
    "            return True\n",
    "        except Exception:\n",
    "            time.sleep(delay)  # wait before retry\n",
    "    return False\n",
    "\n",
    "# ===============================\n",
    "# SEQUENTIAL DOWNLOAD WITH PROGRESS BAR\n",
    "# ===============================\n",
    "success_count = 0\n",
    "for url, filepath in tqdm(tasks, desc=\"Downloading\", unit=\"file\"):\n",
    "    if download_file(url, filepath):\n",
    "        success_count += 1\n",
    "    time.sleep(0.5)  # small delay to avoid server blocking\n",
    "\n",
    "print(f\"\\n✅ Download complete: {success_count}/{len(tasks)} files saved to {save_dir}\")\n"
   ]
  },
  {
   "cell_type": "code",
   "execution_count": null,
   "id": "fac38760-dfaa-4e2f-b7b9-8759e422d113",
   "metadata": {},
   "outputs": [],
   "source": []
  }
 ],
 "metadata": {
  "kernelspec": {
   "display_name": "Python [conda env:base] *",
   "language": "python",
   "name": "conda-base-py"
  },
  "language_info": {
   "codemirror_mode": {
    "name": "ipython",
    "version": 3
   },
   "file_extension": ".py",
   "mimetype": "text/x-python",
   "name": "python",
   "nbconvert_exporter": "python",
   "pygments_lexer": "ipython3",
   "version": "3.13.5"
  }
 },
 "nbformat": 4,
 "nbformat_minor": 5
}
